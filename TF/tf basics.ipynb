{
 "cells": [
  {
   "cell_type": "markdown",
   "metadata": {},
   "source": [
    "# tensorflow basics\n",
    "\n",
    "## 单独数字是 0维向量， 形状为空\n",
    "3 # a rank 0 tensor; a scalar with shape []\n",
    "## 简单数组是 1维向量， 形状为 数组长度\n",
    "[1., 2., 3.] # a rank 1 tensor; a vector with shape [3]\n",
    "## 数组嵌套一层数组  是2维向量， 形状为 【外层嵌套数组 数量，内层数组长度】\n",
    "[[1., 2., 3.], [4., 5., 6.]] # a rank 2 tensor; a matrix with shape [2, 3]\n",
    "\n",
    "[[[1., 2., 3.]], [[7., 8., 9.]]] # a rank 3 tensor with shape [2, 1, 3]\n"
   ]
  },
  {
   "cell_type": "code",
   "execution_count": 1,
   "metadata": {},
   "outputs": [
    {
     "name": "stdout",
     "output_type": "stream",
     "text": [
      "node1: Tensor(\"Const:0\", shape=(), dtype=float32) \n",
      "node2: Tensor(\"Const_1:0\", shape=(), dtype=float32) \n",
      "node213: Tensor(\"Const_2:0\", shape=(2, 1, 3), dtype=float32)\n"
     ]
    }
   ],
   "source": [
    "import tensorflow as tf\n",
    "\n",
    "node1 = tf.constant(3.0, dtype=tf.float32)\n",
    "node2 = tf.constant(4.0)\n",
    "# rank是维数， shape是 向量的形状\n",
    "#a rank 3 tensor with shape [2, 1, 3]\n",
    "node213 = tf.constant([[[1., 2., 3.]], [[7., 8., 9.]]])\n",
    "print(\"node1:\", node1,\"\\nnode2:\",node2,\"\\nnode213:\",node213)"
   ]
  },
  {
   "cell_type": "code",
   "execution_count": 2,
   "metadata": {},
   "outputs": [
    {
     "name": "stdout",
     "output_type": "stream",
     "text": [
      "node3=tf.add node1, node2 : Tensor(\"Add:0\", shape=(), dtype=float32)\n",
      "sess.run node3:  7.0\n"
     ]
    }
   ],
   "source": [
    "#构建计算图\n",
    "node3=tf.add(node1, node2)\n",
    "print('node3=tf.add node1, node2 :', node3)\n",
    "\n",
    "#运行计算图\n",
    "sess = tf.Session()\n",
    "ret = sess.run(node3)\n",
    "print('sess.run node3: ',ret)"
   ]
  },
  {
   "cell_type": "code",
   "execution_count": 3,
   "metadata": {},
   "outputs": [
    {
     "name": "stdout",
     "output_type": "stream",
     "text": [
      "7.5\n",
      "[ 3.  7.]\n"
     ]
    }
   ],
   "source": [
    "import tensorflow as tf\n",
    "sess = tf.Session()\n",
    "# placeholder 来接收外部输入\n",
    "a = tf.placeholder(tf.float32)\n",
    "b = tf.placeholder(tf.float32)\n",
    "adder_node = a + b  # + provides a shortcut for tf.add(a, b)\n",
    "\n",
    "# 输入0维或者1维向量\n",
    "print(sess.run(adder_node, {a:3,     b:4.5  }) )\n",
    "print(sess.run(adder_node, {a:[1,3], b:[2,4]}) )"
   ]
  },
  {
   "cell_type": "code",
   "execution_count": null,
   "metadata": {},
   "outputs": [],
   "source": []
  }
 ],
 "metadata": {
  "kernelspec": {
   "display_name": "Python 3",
   "language": "python",
   "name": "python3"
  },
  "language_info": {
   "codemirror_mode": {
    "name": "ipython",
    "version": 3
   },
   "file_extension": ".py",
   "mimetype": "text/x-python",
   "name": "python",
   "nbconvert_exporter": "python",
   "pygments_lexer": "ipython3",
   "version": "3.5.4"
  }
 },
 "nbformat": 4,
 "nbformat_minor": 2
}
