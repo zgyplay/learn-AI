{
 "cells": [
  {
   "cell_type": "markdown",
   "metadata": {
    "deletable": true,
    "editable": true,
    "slideshow": {
     "slide_type": "slide"
    }
   },
   "source": [
    "#  K Neareast Neighbor Algorithm\n",
    "## Algorithm characteristics\n",
    "* Advantages\n",
    "*High precision, Insensitive to outliers, No data input hypothesis*\n",
    "* Disadvantages\n",
    "**High computational and spatial complexity**\n",
    "* Data Applicability\n",
    "Numerical and nominal type\n",
    "\n",
    "`int i = 1`\n",
    "> 引用Machine Learning in Action\n",
    "\n",
    " 1 2 3\n",
    " \n",
    " ## k-近邻算法的一般流程\n",
    "(1)收集数据：可以使用任何方法。\n",
    "(2)准备数据：距离计算所需要的数值，最好是结构化的数据格式。\n",
    "(3)分析数据：可以使用任何方法。\n",
    "(4)训练算法：此步驟不适用于1 近邻算法。\n",
    "(5)测试算法：计算错误率。\n",
    "(6)使用算法：首先需要输入样本数据和结构化的输出结果，然后运行女-近邻算法判定输\n",
    "入数据分别属于哪个分类，最后应用对计算出的分类执行后续的处理。\n",
    "\n",
    "## 伪代码\n",
    "对未知类别属性的数据集中的每个点依次执行以下操作：\n",
    "(1)计算已知类别数据集中的点与当前点之间的距离；\n",
    "(2)按照距离递增次序排序；\n",
    "(3)选取与当前点距离最小的K个点；\n",
    "(4)确定前K个点所在类别的出现频率；\n",
    "(5)返回前K个点出现频率最高的类别作为当前点的预测分类。"
   ]
  },
  {
   "cell_type": "code",
   "execution_count": 5,
   "metadata": {
    "collapsed": false,
    "deletable": true,
    "editable": true
   },
   "outputs": [
    {
     "data": {
      "text/plain": [
       "3"
      ]
     },
     "execution_count": 5,
     "metadata": {},
     "output_type": "execute_result"
    }
   ],
   "source": []
  }
 ],
 "metadata": {
  "kernelspec": {
   "display_name": "Python 3",
   "language": "python",
   "name": "python3"
  },
  "language_info": {
   "codemirror_mode": {
    "name": "ipython",
    "version": 3
   },
   "file_extension": ".py",
   "mimetype": "text/x-python",
   "name": "python",
   "nbconvert_exporter": "python",
   "pygments_lexer": "ipython3",
   "version": "3.6.0"
  }
 },
 "nbformat": 4,
 "nbformat_minor": 2
}
