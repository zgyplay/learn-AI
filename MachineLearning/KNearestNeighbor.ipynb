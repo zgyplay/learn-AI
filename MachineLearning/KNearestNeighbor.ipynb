{
 "cells": [
  {
   "cell_type": "markdown",
   "metadata": {
    "deletable": true,
    "editable": true,
    "slideshow": {
     "slide_type": "slide"
    }
   },
   "source": [
    "#  K Neareast Neighbor Algorithm\n",
    "## Algorithm characteristics\n",
    "* Advantages\n",
    "*High precision, Insensitive to outliers, No data input hypothesis*\n",
    "* Disadvantages\n",
    "**High computational and spatial complexity**\n",
    "* Data Applicability\n",
    "Numerical and nominal type\n",
    "\n",
    "`int i = 1`\n",
    "> 引用Machine Learning in Action\n",
    "\n",
    " 1 2 3\n"
   ]
  },
  {
   "cell_type": "code",
   "execution_count": 5,
   "metadata": {
    "collapsed": false,
    "deletable": true,
    "editable": true
   },
   "outputs": [
    {
     "data": {
      "text/plain": [
       "3"
      ]
     },
     "execution_count": 5,
     "metadata": {},
     "output_type": "execute_result"
    }
   ],
   "source": []
  }
 ],
 "metadata": {
  "kernelspec": {
   "display_name": "Python 3",
   "language": "python",
   "name": "python3"
  },
  "language_info": {
   "codemirror_mode": {
    "name": "ipython",
    "version": 3
   },
   "file_extension": ".py",
   "mimetype": "text/x-python",
   "name": "python",
   "nbconvert_exporter": "python",
   "pygments_lexer": "ipython3",
   "version": "3.6.0"
  }
 },
 "nbformat": 4,
 "nbformat_minor": 2
}
